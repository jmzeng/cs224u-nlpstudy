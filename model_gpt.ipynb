{
 "cells": [
  {
   "cell_type": "code",
   "execution_count": null,
   "metadata": {},
   "outputs": [],
   "source": [
    "# Writing up a decoder-only GPT architecture\n",
    "# Multihead Attention\n",
    "# Positional Encoding\n",
    "# Feedforward\n",
    "# Decoder\n",
    "# GPT"
   ]
  },
  {
   "cell_type": "code",
   "execution_count": null,
   "metadata": {},
   "outputs": [],
   "source": [
    "import torch.nn as nn\n",
    "import torch"
   ]
  },
  {
   "cell_type": "code",
   "execution_count": null,
   "metadata": {},
   "outputs": [],
   "source": [
    "class MultiHeadAttention(nn.Module):\n",
    "    def __init__(self, d_model, n_heads, seq_length):\n",
    "        assert d_model % n_heads == 0\n",
    "\n",
    "        self.n_heads = n_heads\n",
    "        self.d_model = d_model\n",
    "        self.seq_length = seq_length\n",
    "        self.d_k = d_model // n_heads\n",
    "\n",
    "        # Because it's a decoder input, we now use this version of the attention initialization\n",
    "        self.W_attn = nn.Linear(d_model, 3 * d_model) \n",
    "        self.W_o = nn.Linear(d_model, d_model)\n",
    "\n",
    "        self.register_buffer(\"causal_mask\", torch.tril(torch.ones(seq_length, seq_length)).view(1, 1, seq_length, seq_length))\n",
    "\n",
    "    def split_heads(self, x):\n",
    "        batch_size, seq_length, d_model = x.size()\n",
    "        return x.view(batch_size, seq_length, self.n_heads, self.d_k).transpose(1, 2)\n",
    "\n",
    "    def attention(self, q, k, v):\n",
    "        attn_scores = torch.matmul(q, k.transpose(-1, -2)) / math.sqrt(self.d_k)\n",
    "        \n",
    "        # Apply causal masking\n",
    "        causal_mask = self.causal_mask[:, :, :self.seq_length, :self.seq_length]\n",
    "        attn_scores = attn_scores.masked_fill(causal_mask == 0, 1e-9)\n",
    "\n",
    "        # Apply softmax\n",
    "        attn_probs = nn.functional.softmax(attn_scores, dim=-1)\n",
    "        attn_weight = torch.matmul(attn_probs, v)\n",
    "        return attn_weight\n",
    "\n",
    "\n",
    "    def forward(self, x):\n",
    "        # Input: [batch_size, seq_length, d_model]\n",
    "        # Linear transformation: [batch_size, seq_length, d_model * 3]\n",
    "        # Output: 3 matrix of [batch_size, seq_length, d_model]\n",
    "        Q, K, V = self.W_attn(x).split(self.d_model, dim=2)\n",
    "        \n",
    "        # [batch_size, n_heads, seq_length, d_k]\n",
    "        Q = self.split_heads(Q)\n",
    "        K = self.split_heads(K)\n",
    "        V = self.split_heads(V)\n",
    "\n",
    "        # Attention mechanism\n",
    "        attn_output = self.attention(Q, K, V)\n",
    "        \n",
    "        # Combine heads\n",
    "        attn_output = attn_output.transpose(1, 2).contiguous().view(batch_size, seq_length, d_model)\n",
    "        output = self.W_o(attn_output)\n",
    "        return output"
   ]
  },
  {
   "cell_type": "code",
   "execution_count": null,
   "metadata": {},
   "outputs": [],
   "source": [
    "class FeedForward(nn.Module):\n",
    "    def __init__(self, d_model, d_ff):\n",
    "        self.fc1 = nn.Linear(d_model, d_ff)\n",
    "        self.fc2 = nn.Linear(d_ff, d_model)\n",
    "        self.activation = nn.ReLU()\n",
    "\n",
    "    def forward(self, x):\n",
    "        out = self.activation(self.fc1(x))\n",
    "        out = self.fc2(out)\n",
    "        return out"
   ]
  },
  {
   "cell_type": "code",
   "execution_count": null,
   "metadata": {},
   "outputs": [],
   "source": [
    "class DecoderLayer(nn.Module):\n",
    "    def __init__(self, d_model, n_heads, d_ff, seq_length, dropout):\n",
    "        self.attn = MultiHeadAttention(d_model, h_heads, seq_length)\n",
    "        self.ff = FeedForward(d_model, d_ff)\n",
    "        self.norm1 = nn.LayerNorm(d_model)\n",
    "        self.norm2 = nn.LayerNorm(d_model)\n",
    "        self.dropout = nn.Dropout(p=dropout)\n",
    "\n",
    "    def forward(self, x):\n",
    "        x = x + self.attn(self.norm1(x))\n",
    "        x = x + self.dropout(self.ff(self.norm2(x)))\n",
    "        return x"
   ]
  },
  {
   "cell_type": "code",
   "execution_count": null,
   "metadata": {},
   "outputs": [],
   "source": [
    "class GPT2(nn.Module):\n",
    "    def __init__(self, d_model, n_heads, d_ff, seq_length, vocab_size, dropout, n_layers):\n",
    "        self.wte = nn.Embedding(vocab_size, d_model)\n",
    "        self.wpe = nn.Embedding(seq_length, d_model)\n",
    "        self.seq_length = seq_length\n",
    "        self.decoder = nn.ModuleList([DecoderLayer(d_model, n_heads, d_ff, seq_length) for _ in range(n_layers)])\n",
    "        \n",
    "        self.norm = nn.LayerNorm(d_model)\n",
    "        self.fc = nn.Linear(d_model, vocab_size)\n",
    "        self.dropout = nn.Dropout(p=dropout)\n",
    "\n",
    "        # Special weight initialization\n",
    "        for pn, p in self.named_parameters():\n",
    "            if pn.endswith('W_o.weights'):\n",
    "                torch.nn.init.normal_(p, mean=0.0, std=0.02 / math.sqrt(2 * n_layers))\n",
    "\n",
    "    def forward(self, x, mask):\n",
    "        # positional tokens\n",
    "        pos = torch.arange(0, self.seq_length).unsqueeze(0)\n",
    "\n",
    "        token_embeds = self.wte(x)\n",
    "        pos_embeds = self.wpe(pos)\n",
    "        x = self.dropout(token_embeds + pos_embeds)\n",
    "\n",
    "        for layer in self.decoder:\n",
    "            x = layer(x, mask)\n",
    "        \n",
    "        # The raw logits are outputted because the torch CrossEntropyLoss function doesn't include \n",
    "        logits = self.fc(self.norm(x))\n",
    "        return logits"
   ]
  }
 ],
 "metadata": {
  "language_info": {
   "name": "python"
  }
 },
 "nbformat": 4,
 "nbformat_minor": 2
}
